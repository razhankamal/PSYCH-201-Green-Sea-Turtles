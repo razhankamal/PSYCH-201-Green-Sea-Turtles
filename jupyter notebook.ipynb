{
 "cells": [
  {
   "cell_type": "markdown",
   "id": "41ebe4a8",
   "metadata": {},
   "source": [
    "Razhan Kamal razhan.kamal001@umb.edu - Nansy Hernandez nansy.hernandez001@umb.edu - Shannon Cantan shannon.cantan001@umb.edu - Markia Gooding markia.gooding001@umb.edu - Keneisha Newton keneisha.newton001@umb.edu - Linda Aualom linda.aualom001@umb.edu"
   ]
  },
  {
   "cell_type": "markdown",
   "id": "a5d36752",
   "metadata": {},
   "source": [
    "Green Sea Turtles (Chelonia myda)"
   ]
  },
  {
   "cell_type": "code",
   "execution_count": 1,
   "id": "22d9a663",
   "metadata": {},
   "outputs": [
    {
     "data": {
      "text/html": [
       "<img src=\"https://raw.githubusercontent.com/razhankamal/rmse-losscurve/main/RMSEgraph.png\"/>"
      ],
      "text/plain": [
       "<IPython.core.display.Image object>"
      ]
     },
     "execution_count": 1,
     "metadata": {},
     "output_type": "execute_result"
    }
   ],
   "source": [
    "from IPython.display import Image\n",
    "Image(url='https://raw.githubusercontent.com/razhankamal/rmse-losscurve/main/RMSEgraph.png')"
   ]
  },
  {
   "cell_type": "markdown",
   "id": "9991a5fe",
   "metadata": {},
   "source": [
    "This shows how close our machine predicts where the body parts are to where the body parts were labeled."
   ]
  },
  {
   "cell_type": "code",
   "execution_count": 2,
   "id": "70ac04e7",
   "metadata": {
    "scrolled": false
   },
   "outputs": [
    {
     "data": {
      "text/html": [
       "<img src=\"https://raw.githubusercontent.com/razhankamal/rmse-losscurve/main/losscurve.png\"/>"
      ],
      "text/plain": [
       "<IPython.core.display.Image object>"
      ]
     },
     "execution_count": 2,
     "metadata": {},
     "output_type": "execute_result"
    }
   ],
   "source": [
    "from IPython.display import Image\n",
    "Image(url='https://raw.githubusercontent.com/razhankamal/rmse-losscurve/main/losscurve.png')"
   ]
  },
  {
   "cell_type": "markdown",
   "id": "a5e79355",
   "metadata": {},
   "source": [
    "This is how well our machine was trained. You can see a lower loss, which means our machine has been well trained."
   ]
  },
  {
   "cell_type": "code",
   "execution_count": 4,
   "id": "8aab9ef8",
   "metadata": {},
   "outputs": [
    {
     "data": {
      "text/html": [
       "\n",
       "<video width=“200” height=“300” controls>\n",
       "  <source src=\"https://github.com/razhankamal/Green-Sea-Turtles/raw/main/turtle1.mp4\" type=\"video/mp4\">\n",
       "</video>\n"
      ],
      "text/plain": [
       "<IPython.core.display.HTML object>"
      ]
     },
     "execution_count": 4,
     "metadata": {},
     "output_type": "execute_result"
    }
   ],
   "source": [
    "from IPython.display import HTML\n",
    "HTML(\"\"\"\n",
    "<video width=“200” height=“300” controls>\n",
    "  <source src=\"https://github.com/razhankamal/Green-Sea-Turtles/raw/main/turtle1.mp4\" type=\"video/mp4\">\n",
    "</video>\n",
    "\"\"\")"
   ]
  },
  {
   "cell_type": "code",
   "execution_count": 5,
   "id": "8e1fd555",
   "metadata": {},
   "outputs": [
    {
     "data": {
      "text/html": [
       "\n",
       "<video width=“200” height=“300” controls>\n",
       "  <source src=\"https://github.com/razhankamal/Green-Sea-Turtles/raw/main/turtle11.mp4\" type=\"video/mp4\">\n",
       "</video>\n"
      ],
      "text/plain": [
       "<IPython.core.display.HTML object>"
      ]
     },
     "execution_count": 5,
     "metadata": {},
     "output_type": "execute_result"
    }
   ],
   "source": [
    "from IPython.display import HTML\n",
    "HTML(\"\"\"\n",
    "<video width=“200” height=“300” controls>\n",
    "  <source src=\"https://github.com/razhankamal/Green-Sea-Turtles/raw/main/turtle11.mp4\" type=\"video/mp4\">\n",
    "</video>\n",
    "\"\"\")"
   ]
  },
  {
   "cell_type": "code",
   "execution_count": 6,
   "id": "2010a6b7",
   "metadata": {},
   "outputs": [
    {
     "data": {
      "text/html": [
       "\n",
       "<video width=“200” height=“300” controls>\n",
       "  <source src=\"https://github.com/razhankamal/Green-Sea-Turtles/raw/main/turtle14.mp4\" type=\"video/mp4\">\n",
       "</video>\n"
      ],
      "text/plain": [
       "<IPython.core.display.HTML object>"
      ]
     },
     "execution_count": 6,
     "metadata": {},
     "output_type": "execute_result"
    }
   ],
   "source": [
    "from IPython.display import HTML\n",
    "HTML(\"\"\"\n",
    "<video width=“200” height=“300” controls>\n",
    "  <source src=\"https://github.com/razhankamal/Green-Sea-Turtles/raw/main/turtle14.mp4\" type=\"video/mp4\">\n",
    "</video>\n",
    "\"\"\")"
   ]
  },
  {
   "cell_type": "code",
   "execution_count": 7,
   "id": "212849fc",
   "metadata": {},
   "outputs": [
    {
     "data": {
      "text/html": [
       "\n",
       "<video width=“200” height=“300” controls>\n",
       "  <source src=\"https://github.com/razhankamal/Green-Sea-Turtles/raw/main/turtle25.mp4\" type=\"video/mp4\">\n",
       "</video>\n"
      ],
      "text/plain": [
       "<IPython.core.display.HTML object>"
      ]
     },
     "execution_count": 7,
     "metadata": {},
     "output_type": "execute_result"
    }
   ],
   "source": [
    "from IPython.display import HTML\n",
    "HTML(\"\"\"\n",
    "<video width=“200” height=“300” controls>\n",
    "  <source src=\"https://github.com/razhankamal/Green-Sea-Turtles/raw/main/turtle25.mp4\" type=\"video/mp4\">\n",
    "</video>\n",
    "\"\"\")"
   ]
  },
  {
   "cell_type": "code",
   "execution_count": 8,
   "id": "5e580f34",
   "metadata": {},
   "outputs": [
    {
     "data": {
      "text/html": [
       "\n",
       "<video width=“200” height=“300” controls>\n",
       "  <source src=\"https://github.com/razhankamal/Green-Sea-Turtles/raw/main/turtle7.mp4\" type=\"video/mp4\">\n",
       "</video>\n"
      ],
      "text/plain": [
       "<IPython.core.display.HTML object>"
      ]
     },
     "execution_count": 8,
     "metadata": {},
     "output_type": "execute_result"
    }
   ],
   "source": [
    "from IPython.display import HTML\n",
    "HTML(\"\"\"\n",
    "<video width=“200” height=“300” controls>\n",
    "  <source src=\"https://github.com/razhankamal/Green-Sea-Turtles/raw/main/turtle7.mp4\" type=\"video/mp4\">\n",
    "</video>\n",
    "\"\"\")"
   ]
  },
  {
   "cell_type": "code",
   "execution_count": 9,
   "id": "fdd4c3c1",
   "metadata": {},
   "outputs": [
    {
     "data": {
      "text/html": [
       "\n",
       "<video width=“200” height=“300” controls>\n",
       "  <source src=\"https://github.com/razhankamal/Green-Sea-Turtles/raw/main/turtle10.mp4\" type=\"video/mp4\">\n",
       "</video>\n"
      ],
      "text/plain": [
       "<IPython.core.display.HTML object>"
      ]
     },
     "execution_count": 9,
     "metadata": {},
     "output_type": "execute_result"
    }
   ],
   "source": [
    "from IPython.display import HTML\n",
    "HTML(\"\"\"\n",
    "<video width=“200” height=“300” controls>\n",
    "  <source src=\"https://github.com/razhankamal/Green-Sea-Turtles/raw/main/turtle10.mp4\" type=\"video/mp4\">\n",
    "</video>\n",
    "\"\"\")"
   ]
  },
  {
   "cell_type": "code",
   "execution_count": 10,
   "id": "37058edf",
   "metadata": {},
   "outputs": [
    {
     "data": {
      "text/html": [
       "<img src=\"https://raw.githubusercontent.com/razhankamal/Green-Sea-Turtles/main/inspace.png\"/>"
      ],
      "text/plain": [
       "<IPython.core.display.Image object>"
      ]
     },
     "execution_count": 10,
     "metadata": {},
     "output_type": "execute_result"
    }
   ],
   "source": [
    "from IPython.display import Image\n",
    "Image(url='https://raw.githubusercontent.com/razhankamal/Green-Sea-Turtles/main/inspace.png')"
   ]
  },
  {
   "cell_type": "markdown",
   "id": "4889d881",
   "metadata": {},
   "source": [
    "Body parts plotted in space"
   ]
  },
  {
   "cell_type": "code",
   "execution_count": 11,
   "id": "497311ab",
   "metadata": {},
   "outputs": [
    {
     "data": {
      "text/html": [
       "<img src=\"https://raw.githubusercontent.com/razhankamal/Green-Sea-Turtles/main/acrosstime.png\"/>"
      ],
      "text/plain": [
       "<IPython.core.display.Image object>"
      ]
     },
     "execution_count": 11,
     "metadata": {},
     "output_type": "execute_result"
    }
   ],
   "source": [
    "from IPython.display import Image\n",
    "Image(url='https://raw.githubusercontent.com/razhankamal/Green-Sea-Turtles/main/acrosstime.png')"
   ]
  },
  {
   "cell_type": "markdown",
   "id": "0966e2b6",
   "metadata": {},
   "source": [
    "Body parts across time"
   ]
  },
  {
   "cell_type": "code",
   "execution_count": 12,
   "id": "23a38a76",
   "metadata": {},
   "outputs": [
    {
     "data": {
      "text/html": [
       "<img src=\"https://raw.githubusercontent.com/razhankamal/Green-Sea-Turtles/main/likelihood.png\"/>"
      ],
      "text/plain": [
       "<IPython.core.display.Image object>"
      ]
     },
     "execution_count": 12,
     "metadata": {},
     "output_type": "execute_result"
    }
   ],
   "source": [
    "from IPython.display import Image\n",
    "Image(url='https://raw.githubusercontent.com/razhankamal/Green-Sea-Turtles/main/likelihood.png')"
   ]
  },
  {
   "cell_type": "markdown",
   "id": "a70f9e7a",
   "metadata": {},
   "source": [
    "Every body part likelihood over time"
   ]
  },
  {
   "cell_type": "code",
   "execution_count": 13,
   "id": "d756a903",
   "metadata": {},
   "outputs": [
    {
     "data": {
      "text/html": [
       "<img src=\"https://raw.githubusercontent.com/razhankamal/Green-Sea-Turtles/main/differences.png\"/>"
      ],
      "text/plain": [
       "<IPython.core.display.Image object>"
      ]
     },
     "execution_count": 13,
     "metadata": {},
     "output_type": "execute_result"
    }
   ],
   "source": [
    "from IPython.display import Image\n",
    "Image(url='https://raw.githubusercontent.com/razhankamal/Green-Sea-Turtles/main/differences.png')"
   ]
  },
  {
   "cell_type": "markdown",
   "id": "88ad5002",
   "metadata": {},
   "source": [
    "Consecutive coordinate differences"
   ]
  },
  {
   "cell_type": "code",
   "execution_count": null,
   "id": "5f456c45",
   "metadata": {},
   "outputs": [],
   "source": []
  }
 ],
 "metadata": {
  "kernelspec": {
   "display_name": "Python 3 (ipykernel)",
   "language": "python",
   "name": "python3"
  },
  "language_info": {
   "codemirror_mode": {
    "name": "ipython",
    "version": 3
   },
   "file_extension": ".py",
   "mimetype": "text/x-python",
   "name": "python",
   "nbconvert_exporter": "python",
   "pygments_lexer": "ipython3",
   "version": "3.9.13"
  }
 },
 "nbformat": 4,
 "nbformat_minor": 5
}
